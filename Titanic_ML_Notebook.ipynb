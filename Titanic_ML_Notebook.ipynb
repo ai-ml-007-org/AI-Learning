{
 "cells": [
  {
   "cell_type": "markdown",
   "metadata": {},
   "source": [
    "# Titanic ML - Logistics Regression"
   ]
  },
  {
   "cell_type": "raw",
   "metadata": {},
   "source": [
    "# Data Dictionary\n",
    "Variable\tDefinition\tKey\n",
    "survival\tSurvival\t0 = No, 1 = Yes -- LABEL\n",
    "pclass\tTicket class\t1 = 1st, 2 = 2nd, 3 = 3rd - Category\n",
    "sex\tSex\t- Catergory\n",
    "Age\tAge in years\t- Numeric\n",
    "sibsp\t# of siblings / spouses aboard the Titanic\t- Numeric\n",
    "parch\t# of parents / children aboard the Titanic\t= Numeric\n",
    "ticket\tTicket number\t- Non Numeric\n",
    "fare\tPassenger fare\t- Numeric\n",
    "cabin\tCabin number\t- Category\n",
    "embarked\tPort of Embarkation\tC = Cherbourg, Q = Queenstown, S = Southampton - Category\n",
    "\n",
    "Variable Notes\n",
    "pclass: A proxy for socio-economic status (SES)\n",
    "1st = Upper\n",
    "2nd = Middle\n",
    "3rd = Lower\n",
    "\n",
    "age: Age is fractional if less than 1. If the age is estimated, is it in the form of xx.5\n",
    "\n",
    "sibsp: The dataset defines family relations in this way...\n",
    "Sibling = brother, sister, stepbrother, stepsister\n",
    "Spouse = husband, wife (mistresses and fiancés were ignored)\n",
    "\n",
    "parch: The dataset defines family relations in this way...\n",
    "Parent = mother, father\n",
    "Child = daughter, son, stepdaughter, stepson\n",
    "Some children travelled only with a nanny, therefore parch=0 for them."
   ]
  },
  {
   "cell_type": "code",
   "execution_count": 1,
   "metadata": {},
   "outputs": [],
   "source": [
    "import pandas as pd\n",
    "import numpy as np\n",
    "import matplotlib.pyplot as plt\n",
    "%matplotlib inline\n"
   ]
  },
  {
   "cell_type": "raw",
   "metadata": {},
   "source": [
    "features\n",
    "-PassengerId ---Not required\n",
    "-Pclass -------- 1,2 3, - Category\n",
    "-Name----------- Not required\n",
    "-Sex ----------- Male Female - Category - get_dummies\n",
    "-Age ----------- Numeric\n",
    "-SibSp --------- Numeric Values\n",
    "-Parch,--------- Numeric Values\n",
    "-Ticket--------- Alpha Numeric\n",
    "-Fare, --------- Numeric\n",
    "-Cabin ----------Missing Values\n",
    "-Embarked -------\n",
    "\n",
    "Labels\n",
    "-Survived"
   ]
  },
  {
   "cell_type": "code",
   "execution_count": 2,
   "metadata": {},
   "outputs": [
    {
     "data": {
      "text/html": [
       "<div>\n",
       "<style scoped>\n",
       "    .dataframe tbody tr th:only-of-type {\n",
       "        vertical-align: middle;\n",
       "    }\n",
       "\n",
       "    .dataframe tbody tr th {\n",
       "        vertical-align: top;\n",
       "    }\n",
       "\n",
       "    .dataframe thead th {\n",
       "        text-align: right;\n",
       "    }\n",
       "</style>\n",
       "<table border=\"1\" class=\"dataframe\">\n",
       "  <thead>\n",
       "    <tr style=\"text-align: right;\">\n",
       "      <th></th>\n",
       "      <th>PassengerId</th>\n",
       "      <th>Survived</th>\n",
       "      <th>Pclass</th>\n",
       "      <th>Name</th>\n",
       "      <th>Sex</th>\n",
       "      <th>Age</th>\n",
       "      <th>SibSp</th>\n",
       "      <th>Parch</th>\n",
       "      <th>Ticket</th>\n",
       "      <th>Fare</th>\n",
       "      <th>Cabin</th>\n",
       "      <th>Embarked</th>\n",
       "    </tr>\n",
       "  </thead>\n",
       "  <tbody>\n",
       "    <tr>\n",
       "      <th>0</th>\n",
       "      <td>1</td>\n",
       "      <td>0</td>\n",
       "      <td>3</td>\n",
       "      <td>Braund, Mr. Owen Harris</td>\n",
       "      <td>male</td>\n",
       "      <td>22.0</td>\n",
       "      <td>1</td>\n",
       "      <td>0</td>\n",
       "      <td>A/5 21171</td>\n",
       "      <td>7.2500</td>\n",
       "      <td>NaN</td>\n",
       "      <td>S</td>\n",
       "    </tr>\n",
       "    <tr>\n",
       "      <th>1</th>\n",
       "      <td>2</td>\n",
       "      <td>1</td>\n",
       "      <td>1</td>\n",
       "      <td>Cumings, Mrs. John Bradley (Florence Briggs Th...</td>\n",
       "      <td>female</td>\n",
       "      <td>38.0</td>\n",
       "      <td>1</td>\n",
       "      <td>0</td>\n",
       "      <td>PC 17599</td>\n",
       "      <td>71.2833</td>\n",
       "      <td>C85</td>\n",
       "      <td>C</td>\n",
       "    </tr>\n",
       "    <tr>\n",
       "      <th>2</th>\n",
       "      <td>3</td>\n",
       "      <td>1</td>\n",
       "      <td>3</td>\n",
       "      <td>Heikkinen, Miss. Laina</td>\n",
       "      <td>female</td>\n",
       "      <td>26.0</td>\n",
       "      <td>0</td>\n",
       "      <td>0</td>\n",
       "      <td>STON/O2. 3101282</td>\n",
       "      <td>7.9250</td>\n",
       "      <td>NaN</td>\n",
       "      <td>S</td>\n",
       "    </tr>\n",
       "    <tr>\n",
       "      <th>3</th>\n",
       "      <td>4</td>\n",
       "      <td>1</td>\n",
       "      <td>1</td>\n",
       "      <td>Futrelle, Mrs. Jacques Heath (Lily May Peel)</td>\n",
       "      <td>female</td>\n",
       "      <td>35.0</td>\n",
       "      <td>1</td>\n",
       "      <td>0</td>\n",
       "      <td>113803</td>\n",
       "      <td>53.1000</td>\n",
       "      <td>C123</td>\n",
       "      <td>S</td>\n",
       "    </tr>\n",
       "    <tr>\n",
       "      <th>4</th>\n",
       "      <td>5</td>\n",
       "      <td>0</td>\n",
       "      <td>3</td>\n",
       "      <td>Allen, Mr. William Henry</td>\n",
       "      <td>male</td>\n",
       "      <td>35.0</td>\n",
       "      <td>0</td>\n",
       "      <td>0</td>\n",
       "      <td>373450</td>\n",
       "      <td>8.0500</td>\n",
       "      <td>NaN</td>\n",
       "      <td>S</td>\n",
       "    </tr>\n",
       "  </tbody>\n",
       "</table>\n",
       "</div>"
      ],
      "text/plain": [
       "   PassengerId  Survived  Pclass  \\\n",
       "0            1         0       3   \n",
       "1            2         1       1   \n",
       "2            3         1       3   \n",
       "3            4         1       1   \n",
       "4            5         0       3   \n",
       "\n",
       "                                                Name     Sex   Age  SibSp  \\\n",
       "0                            Braund, Mr. Owen Harris    male  22.0      1   \n",
       "1  Cumings, Mrs. John Bradley (Florence Briggs Th...  female  38.0      1   \n",
       "2                             Heikkinen, Miss. Laina  female  26.0      0   \n",
       "3       Futrelle, Mrs. Jacques Heath (Lily May Peel)  female  35.0      1   \n",
       "4                           Allen, Mr. William Henry    male  35.0      0   \n",
       "\n",
       "   Parch            Ticket     Fare Cabin Embarked  \n",
       "0      0         A/5 21171   7.2500   NaN        S  \n",
       "1      0          PC 17599  71.2833   C85        C  \n",
       "2      0  STON/O2. 3101282   7.9250   NaN        S  \n",
       "3      0            113803  53.1000  C123        S  \n",
       "4      0            373450   8.0500   NaN        S  "
      ]
     },
     "execution_count": 2,
     "metadata": {},
     "output_type": "execute_result"
    }
   ],
   "source": [
    "df = pd.read_csv(\"train.csv\")\n",
    "df.head()"
   ]
  },
  {
   "cell_type": "markdown",
   "metadata": {},
   "source": [
    "## Missing Values\n",
    "Find out the missing Values and Carry forward Imputation for the Same"
   ]
  },
  {
   "cell_type": "code",
   "execution_count": 3,
   "metadata": {},
   "outputs": [
    {
     "name": "stdout",
     "output_type": "stream",
     "text": [
      "(891, 12)\n"
     ]
    },
    {
     "data": {
      "text/plain": [
       "['Age', 'Cabin', 'Embarked']"
      ]
     },
     "execution_count": 3,
     "metadata": {},
     "output_type": "execute_result"
    }
   ],
   "source": [
    "## Find the rows and columns in the Data Frame\n",
    "print(df.shape)\n",
    "## To find the Columns which have atleast one NaN Value.\n",
    "df.loc[:,df.isna().any()]\n",
    "## we got 3 Column - Age, Cabin and Embarked\n",
    "df.loc[:,df.isna().any()].columns.tolist()"
   ]
  },
  {
   "cell_type": "markdown",
   "metadata": {},
   "source": [
    "### Missing Values : Age Column"
   ]
  },
  {
   "cell_type": "code",
   "execution_count": 4,
   "metadata": {},
   "outputs": [
    {
     "name": "stdout",
     "output_type": "stream",
     "text": [
      "count    891.000000\n",
      "mean      29.699118\n",
      "std       13.002015\n",
      "min        0.420000\n",
      "25%       22.000000\n",
      "50%       29.699118\n",
      "75%       35.000000\n",
      "max       80.000000\n",
      "Name: Age_New, dtype: float64\n"
     ]
    }
   ],
   "source": [
    "## Missing Values are Imputed with MEAN, in new Column 'Age_New'\n",
    "# print(df['Age'].mode()[0])\n",
    "df['Age_New'] = df['Age'].fillna(df['Age'].mean())\n",
    "# df['Age_New'] = df['Age'].fillna(df['Age'].mode()[0])\n",
    "# df['Age_New'] = df['Age'].fillna(df['Age'].max())\n",
    "print(df['Age_New'].describe())"
   ]
  },
  {
   "cell_type": "markdown",
   "metadata": {},
   "source": [
    "### Missing Values: Cabin"
   ]
  },
  {
   "cell_type": "code",
   "execution_count": 5,
   "metadata": {},
   "outputs": [
    {
     "data": {
      "text/plain": [
       "1    687\n",
       "0    204\n",
       "Name: Cabin_New, dtype: int64"
      ]
     },
     "execution_count": 5,
     "metadata": {},
     "output_type": "execute_result"
    }
   ],
   "source": [
    "## Cabin is Category Type Feature.\n",
    "# df[df['Cabin'].isnull()].count() ## 687 Cabin's are NaN - which is very high\n",
    "# check how Cabin effects the Survied?? \n",
    "# df[df['Cabin'].isnull()== False]['Survived'].value_counts() ## impact is huge to Survived where cabin is NaN\n",
    "# to populate the NaN values, check the Fare vs Cabin\n",
    "# df[(df['Cabin'].isnull()== False) & (df['Survived']==1)].loc[:,('Fare','Embarked')].sort_values(['Fare'])\n",
    "\n",
    "##Create a new Column Cabin_New - Making Nan as 1 and rest a 0.\n",
    "df['Cabin_New'] = df['Cabin'].fillna(1)\n",
    "df['Cabin_New'] = df['Cabin_New'].apply(lambda x: 0 if x != 1 else x)\n",
    "df['Cabin_New'].value_counts()"
   ]
  },
  {
   "cell_type": "markdown",
   "metadata": {},
   "source": [
    "### Missing Vaules: Embarked"
   ]
  },
  {
   "cell_type": "code",
   "execution_count": 6,
   "metadata": {},
   "outputs": [
    {
     "data": {
      "text/plain": [
       "S    646\n",
       "C    168\n",
       "Q     77\n",
       "Name: Embarked_New, dtype: int64"
      ]
     },
     "execution_count": 6,
     "metadata": {},
     "output_type": "execute_result"
    }
   ],
   "source": [
    "# print(df[df['Embarked'].isnull()])\n",
    "df[(df['Fare'] > 80.0) &(df['Pclass'] == 1)].sort_values(['Fare'])\n",
    "#replaing NaN by S\n",
    "df['Embarked_New'] = df['Embarked'].fillna('S')\n",
    "df['Embarked_New'].value_counts()\n"
   ]
  },
  {
   "cell_type": "markdown",
   "metadata": {},
   "source": [
    "## Categorical Encoding"
   ]
  },
  {
   "cell_type": "code",
   "execution_count": 7,
   "metadata": {},
   "outputs": [
    {
     "data": {
      "text/plain": [
       "Index(['PassengerId', 'Survived', 'Pclass', 'Name', 'Sex', 'Age', 'SibSp',\n",
       "       'Parch', 'Ticket', 'Fare', 'Cabin', 'Embarked', 'Age_New', 'Cabin_New',\n",
       "       'Embarked_New'],\n",
       "      dtype='object')"
      ]
     },
     "execution_count": 7,
     "metadata": {},
     "output_type": "execute_result"
    }
   ],
   "source": [
    "df.columns"
   ]
  },
  {
   "cell_type": "code",
   "execution_count": 8,
   "metadata": {},
   "outputs": [
    {
     "data": {
      "text/html": [
       "<div>\n",
       "<style scoped>\n",
       "    .dataframe tbody tr th:only-of-type {\n",
       "        vertical-align: middle;\n",
       "    }\n",
       "\n",
       "    .dataframe tbody tr th {\n",
       "        vertical-align: top;\n",
       "    }\n",
       "\n",
       "    .dataframe thead th {\n",
       "        text-align: right;\n",
       "    }\n",
       "</style>\n",
       "<table border=\"1\" class=\"dataframe\">\n",
       "  <thead>\n",
       "    <tr style=\"text-align: right;\">\n",
       "      <th></th>\n",
       "      <th>PassengerId</th>\n",
       "      <th>Survived</th>\n",
       "      <th>Name</th>\n",
       "      <th>Age</th>\n",
       "      <th>SibSp</th>\n",
       "      <th>Parch</th>\n",
       "      <th>Ticket</th>\n",
       "      <th>Fare</th>\n",
       "      <th>Cabin</th>\n",
       "      <th>Embarked</th>\n",
       "      <th>Age_New</th>\n",
       "      <th>Cabin_New</th>\n",
       "      <th>Pclass_2</th>\n",
       "      <th>Pclass_3</th>\n",
       "      <th>Sex_male</th>\n",
       "      <th>Embarked_New_Q</th>\n",
       "      <th>Embarked_New_S</th>\n",
       "    </tr>\n",
       "  </thead>\n",
       "  <tbody>\n",
       "    <tr>\n",
       "      <th>0</th>\n",
       "      <td>1</td>\n",
       "      <td>0</td>\n",
       "      <td>Braund, Mr. Owen Harris</td>\n",
       "      <td>22.0</td>\n",
       "      <td>1</td>\n",
       "      <td>0</td>\n",
       "      <td>A/5 21171</td>\n",
       "      <td>7.2500</td>\n",
       "      <td>NaN</td>\n",
       "      <td>S</td>\n",
       "      <td>22.0</td>\n",
       "      <td>1</td>\n",
       "      <td>0</td>\n",
       "      <td>1</td>\n",
       "      <td>1</td>\n",
       "      <td>0</td>\n",
       "      <td>1</td>\n",
       "    </tr>\n",
       "    <tr>\n",
       "      <th>1</th>\n",
       "      <td>2</td>\n",
       "      <td>1</td>\n",
       "      <td>Cumings, Mrs. John Bradley (Florence Briggs Th...</td>\n",
       "      <td>38.0</td>\n",
       "      <td>1</td>\n",
       "      <td>0</td>\n",
       "      <td>PC 17599</td>\n",
       "      <td>71.2833</td>\n",
       "      <td>C85</td>\n",
       "      <td>C</td>\n",
       "      <td>38.0</td>\n",
       "      <td>0</td>\n",
       "      <td>0</td>\n",
       "      <td>0</td>\n",
       "      <td>0</td>\n",
       "      <td>0</td>\n",
       "      <td>0</td>\n",
       "    </tr>\n",
       "    <tr>\n",
       "      <th>2</th>\n",
       "      <td>3</td>\n",
       "      <td>1</td>\n",
       "      <td>Heikkinen, Miss. Laina</td>\n",
       "      <td>26.0</td>\n",
       "      <td>0</td>\n",
       "      <td>0</td>\n",
       "      <td>STON/O2. 3101282</td>\n",
       "      <td>7.9250</td>\n",
       "      <td>NaN</td>\n",
       "      <td>S</td>\n",
       "      <td>26.0</td>\n",
       "      <td>1</td>\n",
       "      <td>0</td>\n",
       "      <td>1</td>\n",
       "      <td>0</td>\n",
       "      <td>0</td>\n",
       "      <td>1</td>\n",
       "    </tr>\n",
       "    <tr>\n",
       "      <th>3</th>\n",
       "      <td>4</td>\n",
       "      <td>1</td>\n",
       "      <td>Futrelle, Mrs. Jacques Heath (Lily May Peel)</td>\n",
       "      <td>35.0</td>\n",
       "      <td>1</td>\n",
       "      <td>0</td>\n",
       "      <td>113803</td>\n",
       "      <td>53.1000</td>\n",
       "      <td>C123</td>\n",
       "      <td>S</td>\n",
       "      <td>35.0</td>\n",
       "      <td>0</td>\n",
       "      <td>0</td>\n",
       "      <td>0</td>\n",
       "      <td>0</td>\n",
       "      <td>0</td>\n",
       "      <td>1</td>\n",
       "    </tr>\n",
       "    <tr>\n",
       "      <th>4</th>\n",
       "      <td>5</td>\n",
       "      <td>0</td>\n",
       "      <td>Allen, Mr. William Henry</td>\n",
       "      <td>35.0</td>\n",
       "      <td>0</td>\n",
       "      <td>0</td>\n",
       "      <td>373450</td>\n",
       "      <td>8.0500</td>\n",
       "      <td>NaN</td>\n",
       "      <td>S</td>\n",
       "      <td>35.0</td>\n",
       "      <td>1</td>\n",
       "      <td>0</td>\n",
       "      <td>1</td>\n",
       "      <td>1</td>\n",
       "      <td>0</td>\n",
       "      <td>1</td>\n",
       "    </tr>\n",
       "  </tbody>\n",
       "</table>\n",
       "</div>"
      ],
      "text/plain": [
       "   PassengerId  Survived                                               Name  \\\n",
       "0            1         0                            Braund, Mr. Owen Harris   \n",
       "1            2         1  Cumings, Mrs. John Bradley (Florence Briggs Th...   \n",
       "2            3         1                             Heikkinen, Miss. Laina   \n",
       "3            4         1       Futrelle, Mrs. Jacques Heath (Lily May Peel)   \n",
       "4            5         0                           Allen, Mr. William Henry   \n",
       "\n",
       "    Age  SibSp  Parch            Ticket     Fare Cabin Embarked  Age_New  \\\n",
       "0  22.0      1      0         A/5 21171   7.2500   NaN        S     22.0   \n",
       "1  38.0      1      0          PC 17599  71.2833   C85        C     38.0   \n",
       "2  26.0      0      0  STON/O2. 3101282   7.9250   NaN        S     26.0   \n",
       "3  35.0      1      0            113803  53.1000  C123        S     35.0   \n",
       "4  35.0      0      0            373450   8.0500   NaN        S     35.0   \n",
       "\n",
       "   Cabin_New  Pclass_2  Pclass_3  Sex_male  Embarked_New_Q  Embarked_New_S  \n",
       "0          1         0         1         1               0               1  \n",
       "1          0         0         0         0               0               0  \n",
       "2          1         0         1         0               0               1  \n",
       "3          0         0         0         0               0               1  \n",
       "4          1         0         1         1               0               1  "
      ]
     },
     "execution_count": 8,
     "metadata": {},
     "output_type": "execute_result"
    }
   ],
   "source": [
    "##One Hot Encoding for features - Pclass, Sex, Embarked\n",
    "df1 = pd.get_dummies(df,columns=['Pclass','Sex','Embarked_New'],drop_first=True)\n",
    "df1.head()"
   ]
  },
  {
   "cell_type": "code",
   "execution_count": 9,
   "metadata": {},
   "outputs": [],
   "source": [
    "# del df1['Pclass_3','Sex_female','Embarked_New_Q'] # No need to run this as drop_first=True, has worked well."
   ]
  },
  {
   "cell_type": "markdown",
   "metadata": {},
   "source": [
    "## Building the Model"
   ]
  },
  {
   "cell_type": "code",
   "execution_count": 10,
   "metadata": {},
   "outputs": [],
   "source": [
    "# Splitting the dataset into the Training set and Test set\n",
    "from sklearn.model_selection import train_test_split"
   ]
  },
  {
   "cell_type": "code",
   "execution_count": 11,
   "metadata": {},
   "outputs": [
    {
     "data": {
      "text/plain": [
       "Index(['PassengerId', 'Survived', 'Name', 'Age', 'SibSp', 'Parch', 'Ticket',\n",
       "       'Fare', 'Cabin', 'Embarked', 'Age_New', 'Cabin_New', 'Pclass_2',\n",
       "       'Pclass_3', 'Sex_male', 'Embarked_New_Q', 'Embarked_New_S'],\n",
       "      dtype='object')"
      ]
     },
     "execution_count": 11,
     "metadata": {},
     "output_type": "execute_result"
    }
   ],
   "source": [
    "df1.columns\n",
    "#"
   ]
  },
  {
   "cell_type": "code",
   "execution_count": 12,
   "metadata": {},
   "outputs": [
    {
     "name": "stdout",
     "output_type": "stream",
     "text": [
      "<class 'numpy.ndarray'>\n"
     ]
    }
   ],
   "source": [
    "#Train on Features - 'SibSp', 'Parch','Age_New', 'Cabin_New', 'Pclass_2','Pclass_3', 'Sex_male', \n",
    "#'Embarked_New_Q', 'Embarked_New_S'\n",
    "##Note: .values -- changes the ouput to numpy array - which is needed by Models\n",
    "X = df1[['SibSp', 'Parch','Age_New', 'Cabin_New', 'Pclass_2','Pclass_3', \n",
    "              'Sex_male','Embarked_New_Q', 'Embarked_New_S']].values\n",
    "print(type(X))"
   ]
  },
  {
   "cell_type": "code",
   "execution_count": 13,
   "metadata": {},
   "outputs": [
    {
     "name": "stdout",
     "output_type": "stream",
     "text": [
      "<class 'numpy.ndarray'>\n"
     ]
    }
   ],
   "source": [
    "y = df1[['Survived']].values\n",
    "print(type(y))"
   ]
  },
  {
   "cell_type": "markdown",
   "metadata": {},
   "source": [
    "### Train Test Split"
   ]
  },
  {
   "cell_type": "code",
   "execution_count": 14,
   "metadata": {},
   "outputs": [],
   "source": [
    "#X_train and y_train\n",
    "#X_test and y_test\n",
    "#Split is 75% and 25%\n",
    "X_train, X_test, y_train, y_test = train_test_split(X, y, test_size = 0.25, random_state = 0)\n",
    "# print(X_train,y_train)"
   ]
  },
  {
   "cell_type": "code",
   "execution_count": 15,
   "metadata": {},
   "outputs": [
    {
     "name": "stdout",
     "output_type": "stream",
     "text": [
      "<class 'numpy.ndarray'>\n"
     ]
    },
    {
     "data": {
      "image/png": "[encoded data removed]",
      "text/plain": [
       "<matplotlib.figure.Figure at 0x262aec831d0>"
      ]
     },
     "metadata": {},
     "output_type": "display_data"
    }
   ],
   "source": [
    "print(type(X_train))\n",
    "plt.hist(X_train[:,2], bins=20);"
   ]
  },
  {
   "cell_type": "markdown",
   "metadata": {},
   "source": [
    "### Feature Scaling"
   ]
  },
  {
   "cell_type": "markdown",
   "metadata": {},
   "source": [
    "##### For Feature Scaling Import the Class from SkLearn\n",
    "from sklearn.preprocessing import StandardScaler\n",
    "sc = StandardScaler()"
   ]
  },
  {
   "cell_type": "code",
   "execution_count": 17,
   "metadata": {},
   "outputs": [
    {
     "data": {
      "text/plain": [
       "array([[-0.46037161, -0.47720996, -0.14358693, ...,  0.72705166,\n",
       "        -0.31414043,  0.59809997],\n",
       "       [ 2.98532288,  1.95619654, -0.99275516, ..., -1.37541808,\n",
       "        -0.31414043,  0.59809997],\n",
       "       [ 0.40105202, -0.47720996,  0.01080729, ...,  0.72705166,\n",
       "        -0.31414043,  0.59809997],\n",
       "       ...,\n",
       "       [-0.46037161, -0.47720996, -0.01241996, ...,  0.72705166,\n",
       "         3.1832897 , -1.67196129],\n",
       "       [ 0.40105202, -0.47720996,  0.47398996, ..., -1.37541808,\n",
       "        -0.31414043,  0.59809997],\n",
       "       [ 0.40105202,  0.73949329,  2.32672063, ...,  0.72705166,\n",
       "        -0.31414043,  0.59809997]])"
      ]
     },
     "execution_count": 17,
     "metadata": {},
     "output_type": "execute_result"
    }
   ],
   "source": [
    "##Fit Transform\n",
    "X_train_sc = sc.fit_transform(X_train)\n",
    "X_train_sc"
   ]
  },
  {
   "cell_type": "code",
   "execution_count": 18,
   "metadata": {},
   "outputs": [
    {
     "data": {
      "text/plain": [
       "array([ 0.53443114,  0.39221557, 29.86000396,  0.76497006,  0.20658683,\n",
       "        0.5494012 ,  0.65419162,  0.08982036,  0.73652695])"
      ]
     },
     "execution_count": 18,
     "metadata": {},
     "output_type": "execute_result"
    }
   ],
   "source": [
    "sc.mean_"
   ]
  },
  {
   "cell_type": "code",
   "execution_count": 19,
   "metadata": {},
   "outputs": [
    {
     "data": {
      "text/plain": [
       "array([1.34761689e+00, 6.75508265e-01, 1.67802296e+02, 1.79790867e-01,\n",
       "       1.63908710e-01, 2.47559522e-01, 2.26224945e-01, 8.17526623e-02,\n",
       "       1.94055004e-01])"
      ]
     },
     "execution_count": 19,
     "metadata": {},
     "output_type": "execute_result"
    }
   ],
   "source": [
    "sc.var_"
   ]
  },
  {
   "cell_type": "code",
   "execution_count": 20,
   "metadata": {},
   "outputs": [],
   "source": [
    "##Transform the X_Test, they same X_train was Fit_Transform\n",
    "X_test_sc = sc.transform(X_test)"
   ]
  },
  {
   "cell_type": "code",
   "execution_count": 21,
   "metadata": {},
   "outputs": [],
   "source": [
    "import seaborn as sns"
   ]
  },
  {
   "cell_type": "code",
   "execution_count": 22,
   "metadata": {},
   "outputs": [
    {
     "data": {
      "text/plain": [
       "<seaborn.axisgrid.JointGrid at 0x262af245a20>"
      ]
     },
     "execution_count": 22,
     "metadata": {},
     "output_type": "execute_result"
    },
    {
     "data": {
      "image/png": "[encoded data removed]",
      "text/plain": [
       "<matplotlib.figure.Figure at 0x262af2459e8>"
      ]
     },
     "metadata": {},
     "output_type": "display_data"
    }
   ],
   "source": [
    "# let's look at how transformed age looks like compared to the original variable\n",
    "sns.jointplot(X_train[:,2], X_train_sc[:,2], kind='kde')"
   ]
  },
  {
   "cell_type": "code",
   "execution_count": 23,
   "metadata": {},
   "outputs": [],
   "source": [
    "#Never Scale Y - as Y is 0 or 1.\n",
    "# y_train_sc = sc.fit_transform(y_train)\n",
    "# y_test_sc = sc.transform(y_test)\n",
    "# print(y_test_sc)"
   ]
  },
  {
   "cell_type": "markdown",
   "metadata": {},
   "source": [
    "## Logistic Regression"
   ]
  },
  {
   "cell_type": "code",
   "execution_count": 24,
   "metadata": {},
   "outputs": [
    {
     "name": "stderr",
     "output_type": "stream",
     "text": [
      "C:\\Users\\vinay.d.gupta\\AppData\\Local\\Continuum\\anaconda3\\lib\\site-packages\\sklearn\\utils\\validation.py:578: DataConversionWarning: A column-vector y was passed when a 1d array was expected. Please change the shape of y to (n_samples, ), for example using ravel().\n",
      "  y = column_or_1d(y, warn=True)\n"
     ]
    },
    {
     "data": {
      "text/plain": [
       "LogisticRegression(C=1.0, class_weight=None, dual=False, fit_intercept=True,\n",
       "          intercept_scaling=1, max_iter=100, multi_class='ovr', n_jobs=1,\n",
       "          penalty='l2', random_state=0, solver='liblinear', tol=0.0001,\n",
       "          verbose=0, warm_start=False)"
      ]
     },
     "execution_count": 24,
     "metadata": {},
     "output_type": "execute_result"
    }
   ],
   "source": [
    "# Fitting Logistic Regression to the Training set, on scaled data set\n",
    "from sklearn.linear_model import LogisticRegression\n",
    "lr = LogisticRegression(random_state = 0)\n",
    "lr.fit(X_train_sc, y_train)\n",
    "# models.append('Logistic Regression')"
   ]
  },
  {
   "cell_type": "code",
   "execution_count": 25,
   "metadata": {},
   "outputs": [
    {
     "data": {
      "text/plain": [
       "array([-0.62285128])"
      ]
     },
     "execution_count": 25,
     "metadata": {},
     "output_type": "execute_result"
    }
   ],
   "source": [
    "# lr.classes_\n",
    "# lr.get_params\n",
    "# lr.multi_class\n",
    "lr.intercept_"
   ]
  },
  {
   "cell_type": "code",
   "execution_count": 26,
   "metadata": {},
   "outputs": [
    {
     "name": "stdout",
     "output_type": "stream",
     "text": [
      "Coeff:  [[-0.37231296 -0.05205546 -0.50116266 -0.38128527 -0.07757625 -0.66826746\n",
      "  -1.26716704 -0.02642397 -0.22639857]]\n",
      "Intercept:  [-0.62285128]\n",
      "Iterations:  [5]\n"
     ]
    }
   ],
   "source": [
    "print('Coeff: ',lr.coef_)\n",
    "print('Intercept: ' ,lr.intercept_)\n",
    "print('Iterations: ',lr.n_iter_)"
   ]
  },
  {
   "cell_type": "code",
   "execution_count": 27,
   "metadata": {},
   "outputs": [
    {
     "data": {
      "text/plain": [
       "array([0, 0, 0, 1, 1, 0, 1, 1, 1, 1, 0, 1, 0, 1, 1, 1, 0, 0, 0, 0, 0, 1,\n",
       "       0, 0, 1, 1, 0, 1, 1, 1, 0, 1, 0, 0, 0, 1, 0, 0, 0, 0, 0, 0, 0, 0,\n",
       "       1, 0, 0, 1, 0, 0, 0, 1, 1, 0, 1, 0, 0, 0, 0, 0, 0, 1, 1, 0, 1, 0,\n",
       "       1, 0, 1, 1, 1, 0, 0, 0, 0, 1, 0, 0, 0, 0, 0, 0, 1, 0, 0, 1, 1, 0,\n",
       "       1, 1, 0, 0, 1, 1, 1, 0, 1, 0, 0, 1, 0, 0, 0, 0, 1, 0, 1, 0, 0, 1,\n",
       "       0, 1, 0, 1, 0, 1, 1, 1, 0, 1, 0, 0, 0, 0, 0, 0, 0, 0, 0, 0, 1, 0,\n",
       "       0, 1, 0, 0, 0, 0, 0, 0, 0, 1, 0, 1, 1, 1, 0, 1, 1, 0, 0, 1, 1, 0,\n",
       "       1, 0, 1, 0, 1, 1, 0, 0, 1, 0, 0, 0, 0, 0, 0, 0, 0, 1, 0, 0, 1, 0,\n",
       "       1, 0, 0, 1, 0, 0, 0, 0, 0, 0, 1, 0, 0, 1, 1, 0, 1, 1, 0, 0, 0, 1,\n",
       "       0, 0, 0, 1, 0, 1, 0, 0, 1, 0, 1, 0, 0, 0, 0, 1, 0, 0, 0, 0, 0, 1,\n",
       "       0, 1, 1], dtype=int64)"
      ]
     },
     "execution_count": 27,
     "metadata": {},
     "output_type": "execute_result"
    }
   ],
   "source": [
    "##Predict the Model use the Scaled Data Frame X_test_sc\n",
    "lr.predict(X_test_sc)"
   ]
  },
  {
   "cell_type": "code",
   "execution_count": 28,
   "metadata": {},
   "outputs": [
    {
     "data": {
      "text/plain": [
       "array([[0.84964374, 0.15035626],\n",
       "       [0.90428315, 0.09571685],\n",
       "       [0.90823297, 0.09176703],\n",
       "       [0.05447601, 0.94552399],\n",
       "       [0.30306468, 0.69693532],\n",
       "       [0.50085526, 0.49914474],\n",
       "       [0.09429926, 0.90570074],\n",
       "       [0.07700466, 0.92299534],\n",
       "       [0.40815463, 0.59184537],\n",
       "       [0.28244399, 0.71755601],\n",
       "       [0.91859097, 0.08140903],\n",
       "       [0.23660187, 0.76339813],\n",
       "       [0.86107239, 0.13892761],\n",
       "       [0.08936257, 0.91063743],\n",
       "       [0.03244622, 0.96755378],\n",
       "       [0.2638983 , 0.7361017 ],\n",
       "       [0.87937986, 0.12062014],\n",
       "       [0.74352673, 0.25647327],\n",
       "       [0.92062215, 0.07937785],\n",
       "       [0.65979618, 0.34020382],\n",
       "       [0.65512335, 0.34487665],\n",
       "       [0.11310554, 0.88689446],\n",
       "       [0.86107239, 0.13892761],\n",
       "       [0.71149205, 0.28850795],\n",
       "       [0.32820871, 0.67179129],\n",
       "       [0.08377564, 0.91622436],\n",
       "       [0.91171566, 0.08828434],\n",
       "       [0.32820871, 0.67179129],\n",
       "       [0.15598777, 0.84401223],\n",
       "       [0.40101577, 0.59898423],\n",
       "       [0.86524043, 0.13475957],\n",
       "       [0.31334703, 0.68665297],\n",
       "       [0.89844019, 0.10155981],\n",
       "       [0.50085526, 0.49914474],\n",
       "       [0.9268595 , 0.0731405 ],\n",
       "       [0.39615779, 0.60384221],\n",
       "       [0.94049449, 0.05950551],\n",
       "       [0.73662883, 0.26337117],\n",
       "       [0.71350225, 0.28649775],\n",
       "       [0.88436343, 0.11563657],\n",
       "       [0.73997287, 0.26002713],\n",
       "       [0.82491499, 0.17508501],\n",
       "       [0.90428315, 0.09571685],\n",
       "       [0.95187302, 0.04812698],\n",
       "       [0.10574523, 0.89425477],\n",
       "       [0.90428315, 0.09571685],\n",
       "       [0.90428315, 0.09571685],\n",
       "       [0.05420736, 0.94579264],\n",
       "       [0.81062728, 0.18937272],\n",
       "       [0.77734482, 0.22265518],\n",
       "       [0.50085526, 0.49914474],\n",
       "       [0.33040385, 0.66959615],\n",
       "       [0.10154955, 0.89845045],\n",
       "       [0.86197809, 0.13802191],\n",
       "       [0.3750722 , 0.6249278 ],\n",
       "       [0.8198313 , 0.1801687 ],\n",
       "       [0.77783388, 0.22216612],\n",
       "       [0.56652312, 0.43347688],\n",
       "       [0.92906748, 0.07093252],\n",
       "       [0.92169941, 0.07830059],\n",
       "       [0.80751505, 0.19248495],\n",
       "       [0.45211332, 0.54788668],\n",
       "       [0.12855245, 0.87144755],\n",
       "       [0.59597042, 0.40402958],\n",
       "       [0.40222944, 0.59777056],\n",
       "       [0.87138303, 0.12861697],\n",
       "       [0.12852757, 0.87147243],\n",
       "       [0.74873104, 0.25126896],\n",
       "       [0.09470438, 0.90529562],\n",
       "       [0.04416342, 0.95583658],\n",
       "       [0.18698904, 0.81301096],\n",
       "       [0.73733646, 0.26266354],\n",
       "       [0.65558624, 0.34441376],\n",
       "       [0.90428315, 0.09571685],\n",
       "       [0.88540116, 0.11459884],\n",
       "       [0.35523042, 0.64476958],\n",
       "       [0.66336362, 0.33663638],\n",
       "       [0.68723554, 0.31276446],\n",
       "       [0.91774852, 0.08225148],\n",
       "       [0.64114039, 0.35885961],\n",
       "       [0.89519544, 0.10480456],\n",
       "       [0.86164131, 0.13835869],\n",
       "       [0.20932782, 0.79067218],\n",
       "       [0.84758092, 0.15241908],\n",
       "       [0.84876012, 0.15123988],\n",
       "       [0.04754739, 0.95245261],\n",
       "       [0.14190256, 0.85809744],\n",
       "       [0.70472961, 0.29527039],\n",
       "       [0.09089536, 0.90910464],\n",
       "       [0.34470027, 0.65529973],\n",
       "       [0.50085526, 0.49914474],\n",
       "       [0.86197809, 0.13802191],\n",
       "       [0.38844502, 0.61155498],\n",
       "       [0.07188521, 0.92811479],\n",
       "       [0.46744204, 0.53255796],\n",
       "       [0.84964374, 0.15035626],\n",
       "       [0.15926036, 0.84073964],\n",
       "       [0.9552963 , 0.0447037 ],\n",
       "       [0.88844267, 0.11155733],\n",
       "       [0.35093272, 0.64906728],\n",
       "       [0.96671008, 0.03328992],\n",
       "       [0.91334153, 0.08665847],\n",
       "       [0.71760184, 0.28239816],\n",
       "       [0.89818187, 0.10181813],\n",
       "       [0.27674905, 0.72325095],\n",
       "       [0.54257298, 0.45742702],\n",
       "       [0.1630564 , 0.8369436 ],\n",
       "       [0.58308732, 0.41691268],\n",
       "       [0.77437363, 0.22562637],\n",
       "       [0.37303099, 0.62696901],\n",
       "       [0.95044176, 0.04955824],\n",
       "       [0.05238693, 0.94761307],\n",
       "       [0.91171566, 0.08828434],\n",
       "       [0.39689198, 0.60310802],\n",
       "       [0.66698562, 0.33301438],\n",
       "       [0.1630564 , 0.8369436 ],\n",
       "       [0.42111395, 0.57888605],\n",
       "       [0.03534554, 0.96465446],\n",
       "       [0.93365707, 0.06634293],\n",
       "       [0.35573959, 0.64426041],\n",
       "       [0.90428315, 0.09571685],\n",
       "       [0.86107239, 0.13892761],\n",
       "       [0.86651679, 0.13348321],\n",
       "       [0.7727296 , 0.2272704 ],\n",
       "       [0.91478049, 0.08521951],\n",
       "       [0.64207823, 0.35792177],\n",
       "       [0.84964374, 0.15035626],\n",
       "       [0.91565055, 0.08434945],\n",
       "       [0.74918227, 0.25081773],\n",
       "       [0.87195443, 0.12804557],\n",
       "       [0.23568048, 0.76431952],\n",
       "       [0.87092858, 0.12907142],\n",
       "       [0.88734935, 0.11265065],\n",
       "       [0.38391697, 0.61608303],\n",
       "       [0.90288372, 0.09711628],\n",
       "       [0.87092858, 0.12907142],\n",
       "       [0.89519544, 0.10480456],\n",
       "       [0.5746407 , 0.4253593 ],\n",
       "       [0.87742323, 0.12257677],\n",
       "       [0.69742764, 0.30257236],\n",
       "       [0.73662883, 0.26337117],\n",
       "       [0.06699096, 0.93300904],\n",
       "       [0.90428315, 0.09571685],\n",
       "       [0.21541748, 0.78458252],\n",
       "       [0.17222715, 0.82777285],\n",
       "       [0.34549041, 0.65450959],\n",
       "       [0.75136329, 0.24863671],\n",
       "       [0.3157646 , 0.6842354 ],\n",
       "       [0.08899606, 0.91100394],\n",
       "       [0.90428315, 0.09571685],\n",
       "       [0.71424791, 0.28575209],\n",
       "       [0.3996817 , 0.6003183 ],\n",
       "       [0.46605894, 0.53394106],\n",
       "       [0.9019163 , 0.0980837 ],\n",
       "       [0.0707536 , 0.9292464 ],\n",
       "       [0.72134503, 0.27865497],\n",
       "       [0.43117239, 0.56882761],\n",
       "       [0.91244993, 0.08755007],\n",
       "       [0.30154431, 0.69845569],\n",
       "       [0.20626486, 0.79373514],\n",
       "       [0.90428315, 0.09571685],\n",
       "       [0.7952012 , 0.2047988 ],\n",
       "       [0.26608095, 0.73391905],\n",
       "       [0.6618235 , 0.3381765 ],\n",
       "       [0.82450618, 0.17549382],\n",
       "       [0.76219053, 0.23780947],\n",
       "       [0.95563153, 0.04436847],\n",
       "       [0.87521555, 0.12478445],\n",
       "       [0.88342371, 0.11657629],\n",
       "       [0.85251204, 0.14748796],\n",
       "       [0.95563153, 0.04436847],\n",
       "       [0.07358837, 0.92641163],\n",
       "       [0.90428315, 0.09571685],\n",
       "       [0.90428315, 0.09571685],\n",
       "       [0.17101775, 0.82898225],\n",
       "       [0.90428315, 0.09571685],\n",
       "       [0.05712726, 0.94287274],\n",
       "       [0.87937986, 0.12062014],\n",
       "       [0.86197809, 0.13802191],\n",
       "       [0.30880784, 0.69119216],\n",
       "       [0.75852041, 0.24147959],\n",
       "       [0.73393921, 0.26606079],\n",
       "       [0.7952012 , 0.2047988 ],\n",
       "       [0.87092858, 0.12907142],\n",
       "       [0.64901913, 0.35098087],\n",
       "       [0.87521555, 0.12478445],\n",
       "       [0.30154431, 0.69845569],\n",
       "       [0.74918227, 0.25081773],\n",
       "       [0.89115908, 0.10884092],\n",
       "       [0.20299652, 0.79700348],\n",
       "       [0.39310784, 0.60689216],\n",
       "       [0.59253844, 0.40746156],\n",
       "       [0.18226826, 0.81773174],\n",
       "       [0.30154431, 0.69845569],\n",
       "       [0.86107239, 0.13892761],\n",
       "       [0.71474655, 0.28525345],\n",
       "       [0.90428315, 0.09571685],\n",
       "       [0.24145898, 0.75854102],\n",
       "       [0.74441344, 0.25558656],\n",
       "       [0.95223264, 0.04776736],\n",
       "       [0.85731049, 0.14268951],\n",
       "       [0.35168254, 0.64831746],\n",
       "       [0.93422201, 0.06577799],\n",
       "       [0.22810827, 0.77189173],\n",
       "       [0.86197809, 0.13802191],\n",
       "       [0.71354765, 0.28645235],\n",
       "       [0.48815621, 0.51184379],\n",
       "       [0.91171566, 0.08828434],\n",
       "       [0.20262785, 0.79737215],\n",
       "       [0.95396193, 0.04603807],\n",
       "       [0.88342371, 0.11657629],\n",
       "       [0.62410742, 0.37589258],\n",
       "       [0.93783434, 0.06216566],\n",
       "       [0.20601274, 0.79398726],\n",
       "       [0.77240853, 0.22759147],\n",
       "       [0.86197809, 0.13802191],\n",
       "       [0.73290228, 0.26709772],\n",
       "       [0.82960341, 0.17039659],\n",
       "       [0.67865477, 0.32134523],\n",
       "       [0.09317438, 0.90682562],\n",
       "       [0.86197809, 0.13802191],\n",
       "       [0.06047516, 0.93952484],\n",
       "       [0.12698843, 0.87301157]])"
      ]
     },
     "execution_count": 28,
     "metadata": {},
     "output_type": "execute_result"
    }
   ],
   "source": [
    "probs = lr.predict_proba(X_test_sc)\n",
    "probs"
   ]
  },
  {
   "cell_type": "markdown",
   "metadata": {},
   "source": [
    "### Evaluation of Logistics Regression Classification"
   ]
  },
  {
   "cell_type": "code",
   "execution_count": 29,
   "metadata": {},
   "outputs": [],
   "source": [
    "from sklearn.metrics import (confusion_matrix, accuracy_score, precision_score, \n",
    "                             recall_score, f1_score)"
   ]
  },
  {
   "cell_type": "code",
   "execution_count": 30,
   "metadata": {},
   "outputs": [
    {
     "name": "stdout",
     "output_type": "stream",
     "text": [
      "Confusion Matrix for LR: \n",
      " [[118  21]\n",
      " [ 22  62]]\n",
      "Accuracy for LR: \n",
      " 0.8071748878923767\n",
      "Precision for LR: \n",
      " 0.7469879518072289\n",
      "Recall for LR: \n",
      " 0.7380952380952381\n",
      "f1_score for LR: \n",
      " 0.7425149700598803\n"
     ]
    }
   ],
   "source": [
    "print('Confusion Matrix for LR: \\n',confusion_matrix(y_test, lr.predict(X_test_sc)))\n",
    "print('Accuracy for LR: \\n',accuracy_score(y_test, lr.predict(X_test_sc)))\n",
    "# acc.append(accuracy_score(y_test, lr.predict(X_test_sc)))\n",
    "print('Precision for LR: \\n',precision_score(y_test, lr.predict(X_test_sc)))\n",
    "# precision.append(precision_score(y_test, lr.predict(X_test_sc)))\n",
    "print('Recall for LR: \\n',recall_score(y_test, lr.predict(X_test_sc)))\n",
    "# recall.append(recall_score(y_test, lr.predict(X_test_sc)))\n",
    "print('f1_score for LR: \\n',f1_score(y_test, lr.predict(X_test_sc)))\n",
    "# f1.append(f1_score(y_test, lr.predict(X_test_sc)))"
   ]
  },
  {
   "cell_type": "code",
   "execution_count": 31,
   "metadata": {},
   "outputs": [
    {
     "data": {
      "text/plain": [
       "(223, 9)"
      ]
     },
     "execution_count": 31,
     "metadata": {},
     "output_type": "execute_result"
    }
   ],
   "source": [
    "X_test_sc.shape"
   ]
  },
  {
   "cell_type": "code",
   "execution_count": null,
   "metadata": {},
   "outputs": [],
   "source": [
    "#df[(df['Name'].str.contains('Miss')) & (df['Survived'] == 0)].count()\n",
    "# .groupby(['Survived']).count() ## to match the string in a column"
   ]
  }
 ],
 "metadata": {
  "kernelspec": {
   "display_name": "Python 3",
   "language": "python",
   "name": "python3"
  },
  "language_info": {
   "codemirror_mode": {
    "name": "ipython",
    "version": 3
   },
   "file_extension": ".py",
   "mimetype": "text/x-python",
   "name": "python",
   "nbconvert_exporter": "python",
   "pygments_lexer": "ipython3",
   "version": "3.6.4"
  }
 },
 "nbformat": 4,
 "nbformat_minor": 2
}
